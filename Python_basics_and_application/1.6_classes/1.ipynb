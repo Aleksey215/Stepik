{
 "cells": [
  {
   "cell_type": "code",
   "execution_count": 2,
   "metadata": {},
   "outputs": [],
   "source": [
    "import random"
   ]
  },
  {
   "attachments": {},
   "cell_type": "markdown",
   "metadata": {},
   "source": [
    "Реализуйте программу, которая будет вычислять количество различных объектов в списке.\n",
    "Два объекта a и b считаются различными, если a is b равно False."
   ]
  },
  {
   "cell_type": "code",
   "execution_count": 3,
   "metadata": {},
   "outputs": [
    {
     "name": "stdout",
     "output_type": "stream",
     "text": [
      "7\n"
     ]
    }
   ],
   "source": [
    "objects = [1, 2, 1, 5, True, False, True, 'false', [], [1,2], [1,2]]\n",
    "ans = 0\n",
    "temp = list()\n",
    "for obj in objects:\n",
    "    if obj not in temp:\n",
    "        temp.append(obj)\n",
    "ans = len(temp)\n",
    "print(ans)"
   ]
  },
  {
   "attachments": {},
   "cell_type": "markdown",
   "metadata": {},
   "source": [
    "1.3 Функции и  стек вызовов"
   ]
  },
  {
   "cell_type": "code",
   "execution_count": 4,
   "metadata": {},
   "outputs": [
    {
     "name": "stdout",
     "output_type": "stream",
     "text": [
      "43\n",
      "6\n"
     ]
    }
   ],
   "source": [
    "def  list_sum(lst):\n",
    "    result = 0\n",
    "    for element in lst:\n",
    "        result += element\n",
    "    return result\n",
    "\n",
    "def sum(a, b):\n",
    "    return a + b\n",
    "\n",
    "y = sum(14, 29)\n",
    "z = list_sum([1, 2, 3])\n",
    "print(y)\n",
    "print(z)"
   ]
  },
  {
   "cell_type": "code",
   "execution_count": 5,
   "metadata": {},
   "outputs": [
    {
     "name": "stdout",
     "output_type": "stream",
     "text": [
      "5\n",
      "True\n"
     ]
    }
   ],
   "source": [
    "x = print(5)\n",
    "print(x is None)"
   ]
  },
  {
   "attachments": {},
   "cell_type": "markdown",
   "metadata": {},
   "source": [
    "Напишите реализацию функции closest_mod_5, принимающую в качестве единственного аргумента целое число x и возвращающую самое маленькое целое число y, такое что:\n",
    "y больше или равно x\n",
    "y делится нацело на 5"
   ]
  },
  {
   "cell_type": "code",
   "execution_count": 19,
   "metadata": {},
   "outputs": [
    {
     "data": {
      "text/plain": [
       "15"
      ]
     },
     "execution_count": 19,
     "metadata": {},
     "output_type": "execute_result"
    }
   ],
   "source": [
    "def closet_mod_5(x):\n",
    "    if x % 5 == 0:\n",
    "        return x\n",
    "    while x % 5 != 0:\n",
    "        x += 1\n",
    "    return x\n",
    "\n",
    "closet_mod_5(13)"
   ]
  },
  {
   "attachments": {},
   "cell_type": "markdown",
   "metadata": {},
   "source": [
    "Передача аргументов из списка и словаря (распаковка)\n",
    "*args - позиционная передача аргументов\n",
    "**kwargs - именованная передача"
   ]
  },
  {
   "cell_type": "code",
   "execution_count": 22,
   "metadata": {},
   "outputs": [
    {
     "name": "stdout",
     "output_type": "stream",
     "text": [
      "10\n",
      "20\n",
      "15\n",
      "45\n"
     ]
    }
   ],
   "source": [
    "args = [10, 20]\n",
    "def printab(a, b):\n",
    "    print(a)\n",
    "    print(b)\n",
    "printab(*args)\n",
    "\n",
    "kwargs = {'a': 15, 'b': 45}\n",
    "printab(**kwargs)\n",
    "\n",
    "\n"
   ]
  },
  {
   "attachments": {},
   "cell_type": "markdown",
   "metadata": {},
   "source": [
    "аргументы по умолчанию\n",
    "нельзя объявлять аргументы без значения по умолчанию после аргументов со значением по умолчанию\n",
    "ТАКАЯ ЗАПИСЬ НЕ КОРРЕКТНА:\n",
    "def printab(a=15, b):\n",
    "    print(a)\n",
    "    print(b)\n",
    "printab()"
   ]
  },
  {
   "cell_type": "code",
   "execution_count": 25,
   "metadata": {},
   "outputs": [
    {
     "name": "stdout",
     "output_type": "stream",
     "text": [
      "5\n",
      "10\n",
      "\n",
      "4\n",
      "6\n"
     ]
    }
   ],
   "source": [
    "def printab(a, b=10):\n",
    "    print(a)\n",
    "    print(b)\n",
    "printab(5)\n",
    "print()\n",
    "printab(4, 6)"
   ]
  },
  {
   "attachments": {},
   "cell_type": "markdown",
   "metadata": {},
   "source": [
    "Передача неопределенного кол-ва аргументов "
   ]
  },
  {
   "cell_type": "code",
   "execution_count": 31,
   "metadata": {},
   "outputs": [
    {
     "name": "stdout",
     "output_type": "stream",
     "text": [
      "неопределенное кол-во позиционных аргументов\n",
      "10\n",
      "20\n",
      "30\n",
      "40\n",
      "50\n",
      "неопределенное кол-во именованных аргументов\n",
      "10\n",
      "20\n",
      "c 30\n",
      "d 40\n",
      "er 50\n"
     ]
    }
   ],
   "source": [
    "print('неопределенное кол-во позиционных аргументов')\n",
    "def printab(a, b, *args):\n",
    "    print(a)\n",
    "    print(b)\n",
    "    for arg in args:\n",
    "        print(arg)\n",
    "\n",
    "printab(10, 20, 30, 40, 50)\n",
    "\n",
    "print('неопределенное кол-во именованных аргументов')\n",
    "def printab(a, b, **kwargs):\n",
    "    print(a)\n",
    "    print(b)\n",
    "    for key in kwargs:\n",
    "        print(key, kwargs[key])\n",
    "\n",
    "printab(10, 20, c=30, d=40, er=50)"
   ]
  },
  {
   "attachments": {},
   "cell_type": "markdown",
   "metadata": {},
   "source": [
    "Рекурсивные функции"
   ]
  },
  {
   "cell_type": "code",
   "execution_count": 32,
   "metadata": {},
   "outputs": [
    {
     "name": "stdout",
     "output_type": "stream",
     "text": [
      "8\n"
     ]
    }
   ],
   "source": [
    "def fib(x):\n",
    "    if x == 0 or x == 1:\n",
    "        return 1\n",
    "    else:\n",
    "        return fib(x -1) + fib(x - 2)\n",
    "\n",
    "y = fib(5)\n",
    "print(y)"
   ]
  },
  {
   "cell_type": "code",
   "execution_count": 35,
   "metadata": {},
   "outputs": [
    {
     "name": "stdout",
     "output_type": "stream",
     "text": [
      "252\n"
     ]
    }
   ],
   "source": [
    "n = 10\n",
    "k = 5\n",
    "def get_c(n, k):\n",
    "    if k == 0:\n",
    "        return 1\n",
    "    elif k > n:\n",
    "        return 0\n",
    "    else:\n",
    "        return get_c(n -1, k) + get_c(n - 1, k - 1)\n",
    "print(get_c(n, k))\n"
   ]
  },
  {
   "attachments": {},
   "cell_type": "markdown",
   "metadata": {},
   "source": [
    "1.4 Пространства имен и области видимости"
   ]
  },
  {
   "attachments": {},
   "cell_type": "markdown",
   "metadata": {},
   "source": [
    "Реализуйте программу, которая будет эмулировать работу с пространствами имен. Необходимо реализовать поддержку создания пространств имен и добавление в них переменных.\n",
    "В данной задаче у каждого пространства имен есть уникальный текстовый идентификатор – его имя.\n",
    "\n",
    "Вашей программе на вход подаются следующие запросы:\n",
    "\n",
    "create <namespace> <parent> –  создать новое пространство имен с именем <namespace> внутри пространства <parent>\n",
    "add <namespace> <var> – добавить в пространство <namespace> переменную <var>\n",
    "get <namespace> <var> – получить имя пространства, из которого будет взята переменная <var> при запросе из пространства <namespace>, или None, если такого пространства не существует"
   ]
  },
  {
   "cell_type": "code",
   "execution_count": null,
   "metadata": {},
   "outputs": [],
   "source": [
    "def emulator(num_of_req, )"
   ]
  }
 ],
 "metadata": {
  "kernelspec": {
   "display_name": "base",
   "language": "python",
   "name": "python3"
  },
  "language_info": {
   "codemirror_mode": {
    "name": "ipython",
    "version": 3
   },
   "file_extension": ".py",
   "mimetype": "text/x-python",
   "name": "python",
   "nbconvert_exporter": "python",
   "pygments_lexer": "ipython3",
   "version": "3.9.13"
  },
  "orig_nbformat": 4
 },
 "nbformat": 4,
 "nbformat_minor": 2
}
